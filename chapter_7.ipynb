{
 "cells": [
  {
   "cell_type": "markdown",
   "metadata": {},
   "source": [
    "# 第7章: データベース\n",
    "Key Value Store (KVS) やNoSQLによるデータベースの構築・検索を修得します．また，CGIを用いたデモ・システムを開発します．\n",
    "\n",
    "- LevelDB, MongoDB, JSON, インデックス, 整列, CGI, テンプレートエンジン"
   ]
  },
  {
   "cell_type": "markdown",
   "metadata": {},
   "source": [
    "[artist.json.gz](http://www.cl.ecei.tohoku.ac.jp/nlp100/data/artist.json.gz)は，オープンな音楽データベースMusicBrainzの中で，アーティストに関するものをJSON形式に変換し，gzip形式で圧縮したファイルである．このファイルには，1アーティストに関する情報が1行にJSON形式で格納されている．JSON形式の概要は以下の通りである．"
   ]
  },
  {
   "cell_type": "markdown",
   "metadata": {},
   "source": [
    "```\n",
    "フィールド\t型\t内容\t例\n",
    "id\tユニーク識別子\t整数\t20660\n",
    "gid\tグローバル識別子\t文字列\t\"ecf9f3a3-35e9-4c58-acaa-e707fba45060\"\n",
    "name\tアーティスト名\t文字列\t\"Oasis\"\n",
    "sort_name\tアーティスト名（辞書順整列用）\t文字列\t\"Oasis\"\n",
    "area\t活動場所\t文字列\t\"United Kingdom\"\n",
    "aliases\t別名\t辞書オブジェクトのリスト\t\n",
    "aliases[].name\t別名\t文字列\t\"オアシス\"\n",
    "aliases[].sort_name\t別名（整列用）\t文字列\t\"オアシス\"\n",
    "begin\t活動開始日\t辞書\t\n",
    "begin.year\t活動開始年\t整数\t1991\n",
    "begin.month\t活動開始月\t整数\t\n",
    "begin.date\t活動開始日\t整数\t\n",
    "end\t活動終了日\t辞書\t\n",
    "end.year\t活動終了年\t整数\t2009\n",
    "end.month\t活動終了月\t整数\t8\n",
    "end.date\t活動終了日\t整数\t28\n",
    "tags\tタグ\t辞書オブジェクトのリスト\t\n",
    "tags[].count\tタグ付けされた回数\t整数\t1\n",
    "tags[].value\tタグ内容\t文字列\t\"rock\"\n",
    "rating\tレーティング\t辞書オブジェクト\t\n",
    "rating.count\tレーティングの投票数\t整数\t13\n",
    "rating.value\tレーティングの値（平均値）\t整数\t86\n",
    "```\n",
    "artist.json.gzのデータをKey-Value-Store (KVS) およびドキュメント志向型データベースに格納・検索することを考える．KVSとしては，LevelDB，Redis，KyotoCabinet等を用いよ．ドキュメント志向型データベースとして，MongoDBを採用したが，CouchDBやRethinkDB等を用いてもよい．"
   ]
  },
  {
   "cell_type": "code",
   "execution_count": 3,
   "metadata": {},
   "outputs": [
    {
     "name": "stdout",
     "output_type": "stream",
     "text": [
      "  % Total    % Received % Xferd  Average Speed   Time    Time     Time  Current\n",
      "                                 Dload  Upload   Total   Spent    Left  Speed\n",
      "100 46.9M  100 46.9M    0     0  7412k      0  0:00:06  0:00:06 --:--:-- 7999k 36.2M    0     0  6999k      0  0:00:06  0:00:05  0:00:01 7374k\n"
     ]
    }
   ],
   "source": [
    "!curl -O http://www.cl.ecei.tohoku.ac.jp/nlp100/data/artist.json.gz"
   ]
  },
  {
   "cell_type": "code",
   "execution_count": 4,
   "metadata": {},
   "outputs": [],
   "source": [
    "!gunzip artist.json.gz"
   ]
  },
  {
   "cell_type": "code",
   "execution_count": 6,
   "metadata": {},
   "outputs": [
    {
     "name": "stdout",
     "output_type": "stream",
     "text": [
      "{\"name\": \"WIK▲N\", \"tags\": [{\"count\": 1, \"value\": \"sillyname\"}], \"sort_name\": \"WIK▲N\", \"ended\": true, \"gid\": \"8972b1c1-6482-4750-b51f-596d2edea8b1\", \"id\": 805192}\r\n",
      "{\"name\": \"Gustav Ruppke\", \"sort_name\": \"Gustav Ruppke\", \"ended\": true, \"gid\": \"b4f76788-7e6f-41b7-ac7b-dfb67f66282e\", \"type\": \"Person\", \"id\": 578352}\r\n",
      "{\"name\": \"Pete Moutso\", \"sort_name\": \"Moutso, Pete\", \"ended\": true, \"gid\": \"49add228-eac5-4de8-836c-d75cde7369c3\", \"type\": \"Person\", \"id\": 371203}\r\n",
      "{\"ended\": true, \"gid\": \"c112a400-af49-4665-8bba-741531d962a1\", \"sort_name\": \"Zachary\", \"id\": 273232, \"name\": \"Zachary\"}\r\n",
      "{\"name\": \"The High Level Ranters\", \"sort_name\": \"High Level Ranters, The\", \"ended\": true, \"gid\": \"c42eed94-e233-44e2-82b8-3ed6dd9bf318\", \"type\": \"Group\", \"id\": 153193}\r\n",
      "{\"begin\": {\"year\": 1956}, \"end\": {\"year\": 1993}, \"name\": \"The Silhouettes\", \"area\": \"United States\", \"sort_name\": \"Silhouettes, The\", \"ended\": true, \"gid\": \"ca3f3ee1-c4a7-4bac-a16a-0b888a396c6b\", \"type\": \"Group\", \"id\": 101060, \"aliases\": [{\"name\": \"Silhouettes\", \"sort_name\": \"Silhouettes\"}, {\"name\": \"The Sihouettes\", \"sort_name\": \"The Sihouettes\"}]}\r\n",
      "{\"ended\": true, \"gid\": \"7b4a548e-a01a-49b7-82e7-b49efeb9732c\", \"sort_name\": \"Leavitt, Aric\", \"id\": 145773, \"name\": \"Aric Leavitt\"}\r\n",
      "{\"ended\": true, \"gid\": \"60aca66f-e91a-4cb5-9308-b6e293cd833e\", \"sort_name\": \"Fonograff\", \"id\": 1076328, \"name\": \"Fonograff\"}\r\n",
      "{\"name\": \"Al Street\", \"area\": \"United States\", \"gender\": \"Male\", \"sort_name\": \"Street, Al\", \"ended\": true, \"gid\": \"3e1bd546-d2a7-49cb-b38d-d70904a1d719\", \"type\": \"Person\", \"id\": 1172876}\r\n",
      "{\"ended\": true, \"gid\": \"df120895-f6c6-4a66-b9cf-73350f0beb61\", \"sort_name\": \"Love .45\", \"id\": 220155, \"name\": \"Love .45\"}\r\n"
     ]
    }
   ],
   "source": [
    "!head artist.json"
   ]
  },
  {
   "cell_type": "markdown",
   "metadata": {},
   "source": [
    "## 60. KVSの構築\n",
    "Key-Value-Store (KVS) を用い，アーティスト名（name）から活動場所（area）を検索するためのデータベースを構築せよ．"
   ]
  },
  {
   "cell_type": "code",
   "execution_count": 7,
   "metadata": {},
   "outputs": [],
   "source": [
    "import json\n",
    "import redis"
   ]
  },
  {
   "cell_type": "code",
   "execution_count": 11,
   "metadata": {},
   "outputs": [
    {
     "ename": "OSError",
     "evalue": "Background processes not supported.",
     "output_type": "error",
     "traceback": [
      "\u001b[0;31m---------------------------------------------------------------------------\u001b[0m",
      "\u001b[0;31mOSError\u001b[0m                                   Traceback (most recent call last)",
      "\u001b[0;32m<ipython-input-11-812aa78ff574>\u001b[0m in \u001b[0;36m<module>\u001b[0;34m\u001b[0m\n\u001b[0;32m----> 1\u001b[0;31m \u001b[0mget_ipython\u001b[0m\u001b[0;34m(\u001b[0m\u001b[0;34m)\u001b[0m\u001b[0;34m.\u001b[0m\u001b[0msystem\u001b[0m\u001b[0;34m(\u001b[0m\u001b[0;34m'redis-server &'\u001b[0m\u001b[0;34m)\u001b[0m\u001b[0;34m\u001b[0m\u001b[0;34m\u001b[0m\u001b[0m\n\u001b[0m",
      "\u001b[0;32m/anaconda/lib/python3.6/site-packages/IPython/core/interactiveshell.py\u001b[0m in \u001b[0;36msystem_piped\u001b[0;34m(self, cmd)\u001b[0m\n\u001b[1;32m   2434\u001b[0m             \u001b[0;31m# os.system() or use ip.system=ip.system_raw\u001b[0m\u001b[0;34m\u001b[0m\u001b[0;34m\u001b[0m\u001b[0;34m\u001b[0m\u001b[0m\n\u001b[1;32m   2435\u001b[0m             \u001b[0;31m# if they really want a background process.\u001b[0m\u001b[0;34m\u001b[0m\u001b[0;34m\u001b[0m\u001b[0;34m\u001b[0m\u001b[0m\n\u001b[0;32m-> 2436\u001b[0;31m             \u001b[0;32mraise\u001b[0m \u001b[0mOSError\u001b[0m\u001b[0;34m(\u001b[0m\u001b[0;34m\"Background processes not supported.\"\u001b[0m\u001b[0;34m)\u001b[0m\u001b[0;34m\u001b[0m\u001b[0;34m\u001b[0m\u001b[0m\n\u001b[0m\u001b[1;32m   2437\u001b[0m \u001b[0;34m\u001b[0m\u001b[0m\n\u001b[1;32m   2438\u001b[0m         \u001b[0;31m# we explicitly do NOT return the subprocess status code, because\u001b[0m\u001b[0;34m\u001b[0m\u001b[0;34m\u001b[0m\u001b[0;34m\u001b[0m\u001b[0m\n",
      "\u001b[0;31mOSError\u001b[0m: Background processes not supported."
     ]
    }
   ],
   "source": [
    "!redis-server &"
   ]
  },
  {
   "cell_type": "code",
   "execution_count": 55,
   "metadata": {},
   "outputs": [],
   "source": [
    "import subprocess\n",
    "p = subprocess.Popen(['redis-server', '--port', '7777'])"
   ]
  },
  {
   "cell_type": "code",
   "execution_count": 56,
   "metadata": {},
   "outputs": [],
   "source": [
    "db = redis.Redis(port=7777)"
   ]
  },
  {
   "cell_type": "code",
   "execution_count": 62,
   "metadata": {},
   "outputs": [
    {
     "data": {
      "text/plain": [
       "True"
      ]
     },
     "execution_count": 62,
     "metadata": {},
     "output_type": "execute_result"
    }
   ],
   "source": [
    "db.set('testkey', 'testval')"
   ]
  },
  {
   "cell_type": "code",
   "execution_count": 64,
   "metadata": {},
   "outputs": [
    {
     "data": {
      "text/plain": [
       "b'testval'"
      ]
     },
     "execution_count": 64,
     "metadata": {},
     "output_type": "execute_result"
    }
   ],
   "source": [
    "db.get('testkey')"
   ]
  },
  {
   "cell_type": "code",
   "execution_count": 65,
   "metadata": {},
   "outputs": [],
   "source": [
    "db.get('nonsense')"
   ]
  },
  {
   "cell_type": "code",
   "execution_count": 67,
   "metadata": {},
   "outputs": [
    {
     "data": {
      "text/plain": [
       "1"
      ]
     },
     "execution_count": 67,
     "metadata": {},
     "output_type": "execute_result"
    }
   ],
   "source": [
    "db.delete('testkey')"
   ]
  },
  {
   "cell_type": "code",
   "execution_count": 68,
   "metadata": {},
   "outputs": [],
   "source": [
    "db.get('testkey')"
   ]
  },
  {
   "cell_type": "code",
   "execution_count": 72,
   "metadata": {},
   "outputs": [],
   "source": [
    "with open('artist.json') as f:\n",
    "    for line in f:\n",
    "        artist = json.loads(line)\n",
    "        db.set(artist['name'], artist.get('area', ''))"
   ]
  },
  {
   "cell_type": "markdown",
   "metadata": {},
   "source": [
    "## 61. KVSの検索\n",
    "60で構築したデータベースを用い，特定の（指定された）アーティストの活動場所を取得せよ．"
   ]
  },
  {
   "cell_type": "code",
   "execution_count": 78,
   "metadata": {},
   "outputs": [
    {
     "data": {
      "text/plain": [
       "b'United States'"
      ]
     },
     "execution_count": 78,
     "metadata": {},
     "output_type": "execute_result"
    }
   ],
   "source": [
    "db.get(\"Al Street\")"
   ]
  },
  {
   "cell_type": "markdown",
   "metadata": {},
   "source": [
    "## 62. KVS内の反復処理\n",
    "60で構築したデータベースを用い，活動場所が「Japan」となっているアーティスト数を求めよ．"
   ]
  },
  {
   "cell_type": "code",
   "execution_count": 79,
   "metadata": {},
   "outputs": [
    {
     "data": {
      "text/plain": [
       "21946"
      ]
     },
     "execution_count": 79,
     "metadata": {},
     "output_type": "execute_result"
    }
   ],
   "source": [
    "sum(db.get(key) == b'Japan' for key in db.scan_iter())"
   ]
  },
  {
   "cell_type": "markdown",
   "metadata": {},
   "source": [
    "## 63. オブジェクトを値に格納したKVS\n",
    "KVSを用い，アーティスト名（name）からタグと被タグ数（タグ付けされた回数）のリストを検索するためのデータベースを構築せよ．さらに，ここで構築したデータベースを用い，アーティスト名からタグと被タグ数を検索せよ．"
   ]
  },
  {
   "cell_type": "code",
   "execution_count": 80,
   "metadata": {},
   "outputs": [
    {
     "data": {
      "text/plain": [
       "True"
      ]
     },
     "execution_count": 80,
     "metadata": {},
     "output_type": "execute_result"
    }
   ],
   "source": [
    "db.flushall()"
   ]
  },
  {
   "cell_type": "code",
   "execution_count": 82,
   "metadata": {},
   "outputs": [
    {
     "data": {
      "text/plain": [
       "[]"
      ]
     },
     "execution_count": 82,
     "metadata": {},
     "output_type": "execute_result"
    }
   ],
   "source": [
    "db.keys()"
   ]
  },
  {
   "cell_type": "code",
   "execution_count": 84,
   "metadata": {},
   "outputs": [
    {
     "data": {
      "text/plain": [
       "1"
      ]
     },
     "execution_count": 84,
     "metadata": {},
     "output_type": "execute_result"
    }
   ],
   "source": [
    "db.lpush('test', 'v2')"
   ]
  },
  {
   "cell_type": "code",
   "execution_count": 85,
   "metadata": {},
   "outputs": [
    {
     "data": {
      "text/plain": [
       "2"
      ]
     },
     "execution_count": 85,
     "metadata": {},
     "output_type": "execute_result"
    }
   ],
   "source": [
    "db.lpush('test', 'v1')"
   ]
  },
  {
   "cell_type": "code",
   "execution_count": 86,
   "metadata": {},
   "outputs": [
    {
     "data": {
      "text/plain": [
       "2"
      ]
     },
     "execution_count": 86,
     "metadata": {},
     "output_type": "execute_result"
    }
   ],
   "source": [
    "db.llen('test')"
   ]
  },
  {
   "cell_type": "code",
   "execution_count": 87,
   "metadata": {},
   "outputs": [
    {
     "data": {
      "text/plain": [
       "b'v1'"
      ]
     },
     "execution_count": 87,
     "metadata": {},
     "output_type": "execute_result"
    }
   ],
   "source": [
    "db.lindex('test', 0)"
   ]
  },
  {
   "cell_type": "code",
   "execution_count": 88,
   "metadata": {},
   "outputs": [
    {
     "data": {
      "text/plain": [
       "b'v2'"
      ]
     },
     "execution_count": 88,
     "metadata": {},
     "output_type": "execute_result"
    }
   ],
   "source": [
    "db.lindex('test', 1)"
   ]
  },
  {
   "cell_type": "code",
   "execution_count": 89,
   "metadata": {},
   "outputs": [],
   "source": [
    "db.lindex('test', 9999)"
   ]
  },
  {
   "cell_type": "code",
   "execution_count": 90,
   "metadata": {},
   "outputs": [
    {
     "data": {
      "text/plain": [
       "1"
      ]
     },
     "execution_count": 90,
     "metadata": {},
     "output_type": "execute_result"
    }
   ],
   "source": [
    "db.delete('test')"
   ]
  },
  {
   "cell_type": "code",
   "execution_count": 91,
   "metadata": {},
   "outputs": [
    {
     "data": {
      "text/plain": [
       "[]"
      ]
     },
     "execution_count": 91,
     "metadata": {},
     "output_type": "execute_result"
    }
   ],
   "source": [
    "db.keys()"
   ]
  },
  {
   "cell_type": "code",
   "execution_count": 93,
   "metadata": {},
   "outputs": [],
   "source": [
    "with open('artist.json') as f:\n",
    "    for line in f:\n",
    "        artist = json.loads(line)\n",
    "        for tag in artist.get('tags', []):\n",
    "            db.lpush(artist['name'], f\"{tag['value']}:{tag['count']}\")"
   ]
  },
  {
   "cell_type": "code",
   "execution_count": 96,
   "metadata": {},
   "outputs": [
    {
     "name": "stdout",
     "output_type": "stream",
     "text": [
      "b'american:1'\n",
      "b'death metal:1'\n"
     ]
    }
   ],
   "source": [
    "name = 'Infester'\n",
    "for i in range(db.llen(name)):\n",
    "    print(db.lindex(name, i))"
   ]
  },
  {
   "cell_type": "code",
   "execution_count": 97,
   "metadata": {},
   "outputs": [],
   "source": [
    "db.shutdown()"
   ]
  },
  {
   "cell_type": "code",
   "execution_count": 98,
   "metadata": {},
   "outputs": [
    {
     "data": {
      "text/plain": [
       "0"
      ]
     },
     "execution_count": 98,
     "metadata": {},
     "output_type": "execute_result"
    }
   ],
   "source": [
    "p.poll()"
   ]
  },
  {
   "cell_type": "markdown",
   "metadata": {},
   "source": [
    "## 64. MongoDBの構築\n",
    "アーティスト情報（artist.json.gz）をデータベースに登録せよ．さらに，次のフィールドでインデックスを作成せよ: name, aliases.name, tags.value, rating.value"
   ]
  },
  {
   "cell_type": "code",
   "execution_count": 156,
   "metadata": {},
   "outputs": [],
   "source": [
    "p = subprocess.Popen(['mongod', '--dbpath', 'db'])\n",
    "p.poll()"
   ]
  },
  {
   "cell_type": "code",
   "execution_count": 109,
   "metadata": {},
   "outputs": [],
   "source": [
    "import pymongo"
   ]
  },
  {
   "cell_type": "code",
   "execution_count": 110,
   "metadata": {},
   "outputs": [],
   "source": [
    "cli = pymongo.MongoClient()"
   ]
  },
  {
   "cell_type": "code",
   "execution_count": 117,
   "metadata": {},
   "outputs": [],
   "source": [
    "db = cli.nlp100_64"
   ]
  },
  {
   "cell_type": "code",
   "execution_count": 122,
   "metadata": {},
   "outputs": [],
   "source": [
    "with open('artist.json') as f:\n",
    "    db.artist.insert_many(\n",
    "        json.loads(line)\n",
    "        for line in f.readlines()\n",
    "    )"
   ]
  },
  {
   "cell_type": "code",
   "execution_count": 123,
   "metadata": {},
   "outputs": [
    {
     "name": "stdout",
     "output_type": "stream",
     "text": [
      "{'_id': ObjectId('5c959924d099ad6af85054cf'), 'name': 'WIK▲N', 'tags': [{'count': 1, 'value': 'sillyname'}], 'sort_name': 'WIK▲N', 'ended': True, 'gid': '8972b1c1-6482-4750-b51f-596d2edea8b1', 'id': 805192}\n"
     ]
    }
   ],
   "source": [
    "print(db.artist.find_one())"
   ]
  },
  {
   "cell_type": "code",
   "execution_count": 145,
   "metadata": {},
   "outputs": [
    {
     "data": {
      "text/plain": [
       "'name_1'"
      ]
     },
     "execution_count": 145,
     "metadata": {},
     "output_type": "execute_result"
    }
   ],
   "source": [
    "db.artist.create_index([('name', pymongo.ASCENDING)])"
   ]
  },
  {
   "cell_type": "code",
   "execution_count": 146,
   "metadata": {},
   "outputs": [
    {
     "data": {
      "text/plain": [
       "'aliases.name_1'"
      ]
     },
     "execution_count": 146,
     "metadata": {},
     "output_type": "execute_result"
    }
   ],
   "source": [
    "db.artist.create_index([('aliases.name', pymongo.ASCENDING)])"
   ]
  },
  {
   "cell_type": "code",
   "execution_count": 147,
   "metadata": {},
   "outputs": [
    {
     "data": {
      "text/plain": [
       "'tags.value_1'"
      ]
     },
     "execution_count": 147,
     "metadata": {},
     "output_type": "execute_result"
    }
   ],
   "source": [
    "db.artist.create_index([('tags.value', pymongo.ASCENDING)])"
   ]
  },
  {
   "cell_type": "code",
   "execution_count": 148,
   "metadata": {},
   "outputs": [
    {
     "data": {
      "text/plain": [
       "'ratings.value_1'"
      ]
     },
     "execution_count": 148,
     "metadata": {},
     "output_type": "execute_result"
    }
   ],
   "source": [
    "db.artist.create_index([('ratings.value', pymongo.ASCENDING)])"
   ]
  },
  {
   "cell_type": "markdown",
   "metadata": {},
   "source": [
    "## 65. MongoDBの検索\n",
    "MongoDBのインタラクティブシェルを用いて，\"Queen\"というアーティストに関する情報を取得せよ．さらに，これと同様の処理を行うプログラムを実装せよ．"
   ]
  },
  {
   "cell_type": "markdown",
   "metadata": {},
   "source": [
    "\n",
    "```\n",
    "mongo\n",
    "> show dbs\n",
    "admin      0.000GB\n",
    "config     0.000GB\n",
    "local      0.000GB\n",
    "nlp100_64  0.135GB\n",
    "> use nlp100_64\n",
    "switched to db nlp100_64\n",
    "> show collections\n",
    "artist\n",
    "> db.artist.findOne({\"name\": \"Queen\"})\n",
    "{\n",
    "\t\"_id\" : ObjectId(\"5c959932d099ad6af8598bf3\"),\n",
    "\t\"name\" : \"Queen\",\n",
    "\t\"area\" : \"Japan\",\n",
    "\t\"gender\" : \"Female\",\n",
    "\t\"tags\" : [\n",
    "\t\t{\n",
    "\t\t\t\"count\" : 1,\n",
    "\t\t\t\"value\" : \"kamen rider w\"\n",
    "\t\t},\n",
    "\t\t{\n",
    "\t\t\t\"count\" : 1,\n",
    "\t\t\t\"value\" : \"related-akb48\"\n",
    "\t\t}\n",
    "\t],\n",
    "\t\"sort_name\" : \"Queen\",\n",
    "\t\"ended\" : true,\n",
    "\t\"gid\" : \"420ca290-76c5-41af-999e-564d7c71f1a7\",\n",
    "\t\"type\" : \"Character\",\n",
    "\t\"id\" : 701492,\n",
    "\t\"aliases\" : [\n",
    "\t\t{\n",
    "\t\t\t\"name\" : \"Queen\",\n",
    "\t\t\t\"sort_name\" : \"Queen\"\n",
    "\t\t}\n",
    "\t]\n",
    "}\n",
    "> exit\n",
    "bye\n",
    "```"
   ]
  },
  {
   "cell_type": "code",
   "execution_count": 159,
   "metadata": {},
   "outputs": [
    {
     "data": {
      "text/plain": [
       "{'_id': ObjectId('5c959932d099ad6af8598bf3'),\n",
       " 'name': 'Queen',\n",
       " 'area': 'Japan',\n",
       " 'gender': 'Female',\n",
       " 'tags': [{'count': 1, 'value': 'kamen rider w'},\n",
       "  {'count': 1, 'value': 'related-akb48'}],\n",
       " 'sort_name': 'Queen',\n",
       " 'ended': True,\n",
       " 'gid': '420ca290-76c5-41af-999e-564d7c71f1a7',\n",
       " 'type': 'Character',\n",
       " 'id': 701492,\n",
       " 'aliases': [{'name': 'Queen', 'sort_name': 'Queen'}]}"
      ]
     },
     "execution_count": 159,
     "metadata": {},
     "output_type": "execute_result"
    }
   ],
   "source": [
    "db.artist.find_one({'name': 'Queen'})"
   ]
  },
  {
   "cell_type": "markdown",
   "metadata": {},
   "source": [
    "## 66. 検索件数の取得\n",
    "MongoDBのインタラクティブシェルを用いて，活動場所が「Japan」となっているアーティスト数を求めよ．"
   ]
  },
  {
   "cell_type": "markdown",
   "metadata": {},
   "source": [
    "```\n",
    "mongo\n",
    "> use nlp100_64\n",
    "switched to db nlp100_64\n",
    "> db.artist.find({\"area\": \"Japan\"}).count()\n",
    "22821\n",
    "```"
   ]
  },
  {
   "cell_type": "code",
   "execution_count": 160,
   "metadata": {},
   "outputs": [
    {
     "name": "stderr",
     "output_type": "stream",
     "text": [
      "/anaconda/lib/python3.6/site-packages/ipykernel_launcher.py:1: DeprecationWarning: count is deprecated. Use Collection.count_documents instead.\n",
      "  \"\"\"Entry point for launching an IPython kernel.\n"
     ]
    },
    {
     "data": {
      "text/plain": [
       "22821"
      ]
     },
     "execution_count": 160,
     "metadata": {},
     "output_type": "execute_result"
    }
   ],
   "source": [
    "db.artist.find({'area': 'Japan'}).count()"
   ]
  },
  {
   "cell_type": "code",
   "execution_count": 162,
   "metadata": {},
   "outputs": [
    {
     "data": {
      "text/plain": [
       "22821"
      ]
     },
     "execution_count": 162,
     "metadata": {},
     "output_type": "execute_result"
    }
   ],
   "source": [
    "db.artist.count_documents({'area': 'Japan'})"
   ]
  },
  {
   "cell_type": "markdown",
   "metadata": {},
   "source": [
    "## 67. 複数のドキュメントの取得\n",
    "特定の（指定した）別名を持つアーティストを検索せよ．"
   ]
  },
  {
   "cell_type": "code",
   "execution_count": 172,
   "metadata": {},
   "outputs": [
    {
     "data": {
      "text/plain": [
       "[{'_id': ObjectId('5c959932d099ad6af8598bf3'),\n",
       "  'name': 'Queen',\n",
       "  'area': 'Japan',\n",
       "  'gender': 'Female',\n",
       "  'tags': [{'count': 1, 'value': 'kamen rider w'},\n",
       "   {'count': 1, 'value': 'related-akb48'}],\n",
       "  'sort_name': 'Queen',\n",
       "  'ended': True,\n",
       "  'gid': '420ca290-76c5-41af-999e-564d7c71f1a7',\n",
       "  'type': 'Character',\n",
       "  'id': 701492,\n",
       "  'aliases': [{'name': 'Queen', 'sort_name': 'Queen'}]}]"
      ]
     },
     "execution_count": 172,
     "metadata": {},
     "output_type": "execute_result"
    }
   ],
   "source": [
    "list(db.artist.find({'aliases.name': 'Queen'}))"
   ]
  },
  {
   "cell_type": "markdown",
   "metadata": {},
   "source": [
    "## 68. ソート\n",
    "\"dance\"というタグを付与されたアーティストの中でレーティングの投票数が多いアーティスト・トップ10を求めよ．"
   ]
  },
  {
   "cell_type": "code",
   "execution_count": 173,
   "metadata": {},
   "outputs": [
    {
     "data": {
      "text/plain": [
       "{'_id': ObjectId('5c959924d099ad6af8508bcb'),\n",
       " 'rating': {'count': 1, 'value': 80},\n",
       " 'name': 'Definition of Sound',\n",
       " 'tags': [{'count': 1, 'value': 'male vocalists'},\n",
       "  {'count': 1, 'value': 'dance'},\n",
       "  {'count': 1, 'value': 'hip hop'},\n",
       "  {'count': 1, 'value': '90s'},\n",
       "  {'count': 1, 'value': 'rock and indie'},\n",
       "  {'count': 1, 'value': 'jazz'}],\n",
       " 'sort_name': 'Definition of Sound',\n",
       " 'ended': True,\n",
       " 'gid': 'f015191f-8d20-4fc9-845f-b4bd6f348967',\n",
       " 'type': 'Group',\n",
       " 'id': 35488}"
      ]
     },
     "execution_count": 173,
     "metadata": {},
     "output_type": "execute_result"
    }
   ],
   "source": [
    "db.artist.find_one({'tags.value': 'dance'})"
   ]
  },
  {
   "cell_type": "code",
   "execution_count": 175,
   "metadata": {},
   "outputs": [],
   "source": [
    "import itertools"
   ]
  },
  {
   "cell_type": "code",
   "execution_count": 178,
   "metadata": {},
   "outputs": [
    {
     "data": {
      "text/plain": [
       "[0, 1, 2, 3, 4]"
      ]
     },
     "execution_count": 178,
     "metadata": {},
     "output_type": "execute_result"
    }
   ],
   "source": [
    "list(itertools.islice(range(10), 5))"
   ]
  },
  {
   "cell_type": "code",
   "execution_count": 179,
   "metadata": {},
   "outputs": [
    {
     "data": {
      "text/plain": [
       "[{'_id': ObjectId('5c959935d099ad6af85b65f0'),\n",
       "  'rating': {'count': 26, 'value': 88},\n",
       "  'begin': {'date': 16, 'month': 8, 'year': 1958},\n",
       "  'name': 'Madonna',\n",
       "  'area': 'United States',\n",
       "  'gender': 'Female',\n",
       "  'tags': [{'count': 1, 'value': 'dance-pop'},\n",
       "   {'count': 1, 'value': 'electropop'},\n",
       "   {'count': 1, 'value': 'tell me'},\n",
       "   {'count': 1, 'value': 'pop and chart'},\n",
       "   {'count': 1, 'value': 'multiple ipi'},\n",
       "   {'count': 1, 'value': 'electronic'},\n",
       "   {'count': 1, 'value': 'américain'},\n",
       "   {'count': 1, 'value': 'usa'},\n",
       "   {'count': 1, 'value': 'singer'},\n",
       "   {'count': 1, 'value': 'chanteur'},\n",
       "   {'count': 1, 'value': 'american'},\n",
       "   {'count': 4, 'value': 'pop'},\n",
       "   {'count': 1, 'value': 'greatest hits'},\n",
       "   {'count': 1, 'value': 'dance'}],\n",
       "  'sort_name': 'Madonna',\n",
       "  'ended': True,\n",
       "  'gid': '79239441-bfd5-4981-a70c-55c3f15c1287',\n",
       "  'type': 'Person',\n",
       "  'id': 89},\n",
       " {'_id': ObjectId('5c959934d099ad6af85a8f7a'),\n",
       "  'rating': {'count': 23, 'value': 84},\n",
       "  'begin': {'date': 21, 'month': 11, 'year': 1965},\n",
       "  'name': 'Björk',\n",
       "  'area': 'Iceland',\n",
       "  'gender': 'Female',\n",
       "  'tags': [{'count': 1, 'value': 'soundtrack'},\n",
       "   {'count': 2, 'value': 'ambient'},\n",
       "   {'count': 1, 'value': 'islande'},\n",
       "   {'count': 1, 'value': 'trip-hop'},\n",
       "   {'count': 1, 'value': '90s'},\n",
       "   {'count': 1, 'value': 'islandais'},\n",
       "   {'count': 1, 'value': '2000'},\n",
       "   {'count': 3, 'value': 'experimental'},\n",
       "   {'count': 1, 'value': 'dance'},\n",
       "   {'count': 1, 'value': 'idm'},\n",
       "   {'count': 1, 'value': 'rock and indie'},\n",
       "   {'count': 1, 'value': '10s'},\n",
       "   {'count': 2, 'value': 'alternative'},\n",
       "   {'count': 7, 'value': 'icelandic'},\n",
       "   {'count': 1, 'value': 'multiple ipi'},\n",
       "   {'count': 1, 'value': 'baroque pop'},\n",
       "   {'count': 2, 'value': 'jazz'},\n",
       "   {'count': 1, 'value': 'pop'},\n",
       "   {'count': 2, 'value': 'electronica'},\n",
       "   {'count': 1, 'value': '00s'},\n",
       "   {'count': 3, 'value': 'electronic'},\n",
       "   {'count': 3, 'value': 'iceland'},\n",
       "   {'count': 1, 'value': 'art pop'},\n",
       "   {'count': 1, 'value': 'progressive pop'},\n",
       "   {'count': 1, 'value': 'a cappella'},\n",
       "   {'count': 1, 'value': 'trip hop'},\n",
       "   {'count': 1, 'value': 'whimsically inclined'}],\n",
       "  'sort_name': 'Björk',\n",
       "  'ended': True,\n",
       "  'gid': '87c5dedd-371d-4a53-9f7f-80522fb7f3cb',\n",
       "  'type': 'Person',\n",
       "  'id': 1022,\n",
       "  'aliases': [{'name': 'Björk Gudmundsdottir',\n",
       "    'sort_name': 'Björk Gudmundsdottir'},\n",
       "   {'name': 'Björk Gudmudsdóttir', 'sort_name': 'Björk Gudmudsdóttir'},\n",
       "   {'name': 'Bj rk', 'sort_name': 'Bj rk'},\n",
       "   {'name': 'BjÃ¶rk', 'sort_name': 'BjÃ¶rk'},\n",
       "   {'name': 'Björk Guðmundsdóttir', 'sort_name': 'Björk Guðmundsdóttir'},\n",
       "   {'name': 'Biork', 'sort_name': 'Biork'},\n",
       "   {'name': 'Bjõrk', 'sort_name': 'Bjõrk'},\n",
       "   {'name': 'Bjørk', 'sort_name': 'Bjørk'},\n",
       "   {'name': 'Bjцrk', 'sort_name': 'Bjцrk'},\n",
       "   {'name': 'Bjork', 'sort_name': 'Bjork'}]},\n",
       " {'_id': ObjectId('5c959939d099ad6af85dc2bb'),\n",
       "  'rating': {'count': 23, 'value': 90},\n",
       "  'begin': {'year': 1990},\n",
       "  'name': 'The Prodigy',\n",
       "  'area': 'United Kingdom',\n",
       "  'tags': [{'count': 6, 'value': 'big beat'},\n",
       "   {'count': 1, 'value': 'english'},\n",
       "   {'count': 3, 'value': 'british'},\n",
       "   {'count': 1, 'value': 'industrial'},\n",
       "   {'count': 1, 'value': 'dance-punk'},\n",
       "   {'count': 2, 'value': 'uk'},\n",
       "   {'count': 2, 'value': 'breakbeat hardcore'},\n",
       "   {'count': 1, 'value': 'electropunk'},\n",
       "   {'count': 1, 'value': 'britannique'},\n",
       "   {'count': 1, 'value': 'electronica'},\n",
       "   {'count': 1, 'value': '2005'},\n",
       "   {'count': 6, 'value': 'electronic'},\n",
       "   {'count': 1, 'value': 'dance'},\n",
       "   {'count': 1, 'value': 'alternative rock'},\n",
       "   {'count': 1, 'value': 'dance and electronica'},\n",
       "   {'count': 1, 'value': 'rave'},\n",
       "   {'count': 2, 'value': 'hardcore'},\n",
       "   {'count': 1, 'value': 'rock'},\n",
       "   {'count': 1, 'value': 'breakbeat'},\n",
       "   {'count': 1, 'value': 'electro'},\n",
       "   {'count': 2, 'value': 'techno'}],\n",
       "  'sort_name': 'Prodigy, The',\n",
       "  'ended': True,\n",
       "  'gid': '4a4ee089-93b1-4470-af9a-6ff575d32704',\n",
       "  'type': 'Group',\n",
       "  'id': 44954,\n",
       "  'aliases': [{'name': 'Prodigy', 'sort_name': 'Prodigy'},\n",
       "   {'name': 'The Prodigy Vs. The Prodigy',\n",
       "    'sort_name': 'The Prodigy Vs. The Prodigy'}]},\n",
       " {'_id': ObjectId('5c959939d099ad6af85dec64'),\n",
       "  'rating': {'count': 15, 'value': 68},\n",
       "  'begin': {'date': 20, 'month': 2, 'year': 1988},\n",
       "  'name': 'Rihanna',\n",
       "  'area': 'New York',\n",
       "  'gender': 'Female',\n",
       "  'tags': [{'count': 1, 'value': 'rnb'},\n",
       "   {'count': 3, 'value': 'barbadian'},\n",
       "   {'count': 1, 'value': 'pop and chart'},\n",
       "   {'count': 1, 'value': 'r&b'},\n",
       "   {'count': 2, 'value': 'dancehall'},\n",
       "   {'count': 1, 'value': 'reggae'},\n",
       "   {'count': 2, 'value': 'hip hop'},\n",
       "   {'count': 1, 'value': 'dance'},\n",
       "   {'count': 2, 'value': 'dance-pop'},\n",
       "   {'count': 4, 'value': 'pop'},\n",
       "   {'count': 1, 'value': 'barbade'},\n",
       "   {'count': 1, 'value': 'barbadien'},\n",
       "   {'count': 1, 'value': 'contemporary r b'},\n",
       "   {'count': 1, 'value': 'barbados'},\n",
       "   {'count': 1, 'value': 'rehab'}],\n",
       "  'sort_name': 'Rihanna',\n",
       "  'ended': True,\n",
       "  'gid': '73e5e69d-3554-40d8-8516-00cb38737a1c',\n",
       "  'type': 'Person',\n",
       "  'id': 262731,\n",
       "  'aliases': [{'name': '蕾哈娜', 'sort_name': '蕾哈娜'},\n",
       "   {'name': 'Rhianna', 'sort_name': 'Rhianna'},\n",
       "   {'name': 'Riannah', 'sort_name': 'Riannah'},\n",
       "   {'name': 'Robyn Rihanna Fenty', 'sort_name': 'Fenty, Robyn Rihanna'},\n",
       "   {'name': 'Rihanna', 'sort_name': 'Rihanna'}]},\n",
       " {'_id': ObjectId('5c959927d099ad6af8528288'),\n",
       "  'rating': {'count': 13, 'value': 83},\n",
       "  'begin': {'date': 2, 'month': 12, 'year': 1981},\n",
       "  'name': 'Britney Spears',\n",
       "  'area': 'United States',\n",
       "  'gender': 'Female',\n",
       "  'tags': [{'count': 7, 'value': 'pop'},\n",
       "   {'count': 1, 'value': 'américain'},\n",
       "   {'count': 1, 'value': 'electropop'},\n",
       "   {'count': 1, 'value': 'usa'},\n",
       "   {'count': 1, 'value': 'pop and chart'},\n",
       "   {'count': 1, 'value': 'dance-pop'},\n",
       "   {'count': 1, 'value': 'urban pop'},\n",
       "   {'count': 1, 'value': 'if you seek amy'},\n",
       "   {'count': 1, 'value': 'dance'},\n",
       "   {'count': 2, 'value': 'american'}],\n",
       "  'sort_name': 'Spears, Britney',\n",
       "  'ended': True,\n",
       "  'gid': '45a663b5-b1cb-4a91-bff6-2bef7bbfdd76',\n",
       "  'type': 'Person',\n",
       "  'id': 791,\n",
       "  'aliases': [{'name': 'Bretney Spears', 'sort_name': 'Bretney Spears'},\n",
       "   {'name': 'B. Spears', 'sort_name': 'B. Spears'},\n",
       "   {'name': 'Brittany Spears', 'sort_name': 'Brittany Spears'},\n",
       "   {'name': 'Briteny Spears', 'sort_name': 'Briteny Spears'},\n",
       "   {'name': 'Brittney Spears', 'sort_name': 'Brittney Spears'},\n",
       "   {'name': 'Britney Jean Spears', 'sort_name': 'Spears, Britney Jean'}]},\n",
       " {'_id': ObjectId('5c959939d099ad6af85df491'),\n",
       "  'rating': {'count': 11, 'value': 60},\n",
       "  'begin': {'year': 2002},\n",
       "  'name': 'Maroon 5',\n",
       "  'area': 'United States',\n",
       "  'tags': [{'count': 1, 'value': 'rock and indie'},\n",
       "   {'count': 1, 'value': 'slow pop'},\n",
       "   {'count': 1, 'value': 'automod ng'},\n",
       "   {'count': 1, 'value': 'pop'},\n",
       "   {'count': 1, 'value': 'rock'},\n",
       "   {'count': 1, 'value': 'dance'},\n",
       "   {'count': 1, 'value': 'pop/rock'},\n",
       "   {'count': 1, 'value': 'fixme label mess'}],\n",
       "  'sort_name': 'Maroon 5',\n",
       "  'ended': True,\n",
       "  'gid': '0ab49580-c84f-44d4-875f-d83760ea2cfe',\n",
       "  'type': 'Group',\n",
       "  'id': 66179,\n",
       "  'aliases': [{'name': 'marron 5', 'sort_name': 'marron 5'},\n",
       "   {'name': 'マルーン５', 'sort_name': 'マルーン５'},\n",
       "   {'name': 'Maroon5', 'sort_name': 'Maroon5'}]},\n",
       " {'_id': ObjectId('5c95992dd099ad6af8565825'),\n",
       "  'rating': {'count': 7, 'value': 100},\n",
       "  'begin': {'date': 29, 'month': 1, 'year': 1982},\n",
       "  'name': 'Adam Lambert',\n",
       "  'area': 'United States',\n",
       "  'gender': 'Male',\n",
       "  'tags': [{'count': 1, 'value': 'vocalist'},\n",
       "   {'count': 1, 'value': 'glam'},\n",
       "   {'count': 1, 'value': 'costume'},\n",
       "   {'count': 1, 'value': 'dance'},\n",
       "   {'count': 1, 'value': 'showman'},\n",
       "   {'count': 1, 'value': 'rock'},\n",
       "   {'count': 1, 'value': 'pop'},\n",
       "   {'count': 1, 'value': 'american idol'}],\n",
       "  'sort_name': 'Lambert, Adam',\n",
       "  'ended': True,\n",
       "  'gid': 'e942594a-91cc-427a-8beb-6815c28e9254',\n",
       "  'type': 'Person',\n",
       "  'id': 627661},\n",
       " {'_id': ObjectId('5c959932d099ad6af859c11f'),\n",
       "  'rating': {'count': 7, 'value': 77},\n",
       "  'begin': {'date': 31, 'month': 7, 'year': 1963},\n",
       "  'name': 'Fatboy Slim',\n",
       "  'area': 'United Kingdom',\n",
       "  'gender': 'Male',\n",
       "  'tags': [{'count': 1, 'value': 'trip hop'},\n",
       "   {'count': 3, 'value': 'electronic'},\n",
       "   {'count': 1, 'value': 'dance'},\n",
       "   {'count': 1, 'value': 'trip-hop'},\n",
       "   {'count': 1, 'value': 'english'},\n",
       "   {'count': 1, 'value': 'classic pop and rock'},\n",
       "   {'count': 2, 'value': 'uk'},\n",
       "   {'count': 2, 'value': 'big beat'},\n",
       "   {'count': 1, 'value': 'britannique'},\n",
       "   {'count': 3, 'value': 'british'},\n",
       "   {'count': 1, 'value': '1998'}],\n",
       "  'sort_name': 'Fatboy Slim',\n",
       "  'ended': True,\n",
       "  'gid': '34c63966-445c-4613-afe1-4f0e1e53ae9a',\n",
       "  'type': 'Person',\n",
       "  'id': 255,\n",
       "  'aliases': [{'name': 'ファットボーイ・スリム', 'sort_name': 'ファットボーイ・スリム'},\n",
       "   {'name': 'Fatboy Slim - Because We Can',\n",
       "    'sort_name': 'Fatboy Slim - Because We Can'},\n",
       "   {'name': 'Fatboy Slin', 'sort_name': 'Fatboy Slin'},\n",
       "   {'name': 'Fat Boy Slim', 'sort_name': 'Fat Boy Slim'}]},\n",
       " {'_id': ObjectId('5c959934d099ad6af85b0c65'),\n",
       "  'rating': {'count': 6, 'value': 83},\n",
       "  'begin': {'year': 1994},\n",
       "  'name': 'Basement Jaxx',\n",
       "  'area': 'United Kingdom',\n",
       "  'tags': [{'count': 1, 'value': 'english'},\n",
       "   {'count': 2, 'value': 'uk'},\n",
       "   {'count': 1, 'value': 'house'},\n",
       "   {'count': 1, 'value': 'uk garage'},\n",
       "   {'count': 3, 'value': 'dance'},\n",
       "   {'count': 4, 'value': 'british'},\n",
       "   {'count': 1, 'value': 'dance and electronica'},\n",
       "   {'count': 1, 'value': '10s'},\n",
       "   {'count': 2, 'value': 'electronic'},\n",
       "   {'count': 1, 'value': '00s'},\n",
       "   {'count': 1, 'value': '90s'}],\n",
       "  'sort_name': 'Basement Jaxx',\n",
       "  'ended': True,\n",
       "  'gid': '28cbf94d-0700-4095-a188-37e373b069a7',\n",
       "  'type': 'Group',\n",
       "  'id': 1060,\n",
       "  'aliases': [{'name': 'Basementt Jaxx', 'sort_name': 'Basementt Jaxx'},\n",
       "   {'name': 'Basment Jaxx', 'sort_name': 'Basment Jaxx'},\n",
       "   {'name': 'Basemant Jaxx', 'sort_name': 'Basemant Jaxx'},\n",
       "   {'name': 'Bassment Jaxx', 'sort_name': 'Bassment Jaxx'},\n",
       "   {'name': 'Basement Jazz', 'sort_name': 'Basement Jazz'},\n",
       "   {'name': 'Basements Jaxx', 'sort_name': 'Basements Jaxx'}]},\n",
       " {'_id': ObjectId('5c959934d099ad6af85ada44'),\n",
       "  'rating': {'count': 5, 'value': 68},\n",
       "  'begin': {'year': 1991},\n",
       "  'name': 'Cornershop',\n",
       "  'area': 'United Kingdom',\n",
       "  'tags': [{'count': 1, 'value': 'dance'},\n",
       "   {'count': 1, 'value': 'indie'},\n",
       "   {'count': 1, 'value': 'brit pop'},\n",
       "   {'count': 1, 'value': 'indian'},\n",
       "   {'count': 2, 'value': 'british'},\n",
       "   {'count': 1, 'value': 'uk'},\n",
       "   {'count': 1, 'value': 'asian'},\n",
       "   {'count': 1, 'value': 'british asian'},\n",
       "   {'count': 1, 'value': 'english'},\n",
       "   {'count': 1, 'value': 'rock and indie'}],\n",
       "  'sort_name': 'Cornershop',\n",
       "  'ended': True,\n",
       "  'gid': '92046be7-0927-4835-a4ed-a90416747d53',\n",
       "  'type': 'Group',\n",
       "  'id': 798,\n",
       "  'aliases': [{'name': 'Conershop', 'sort_name': 'Conershop'},\n",
       "   {'name': 'Corner Shop -', 'sort_name': 'Corner Shop -'},\n",
       "   {'name': 'Cornership', 'sort_name': 'Cornership'},\n",
       "   {'name': 'Corner Shop', 'sort_name': 'Corner Shop'}]}]"
      ]
     },
     "execution_count": 179,
     "metadata": {},
     "output_type": "execute_result"
    }
   ],
   "source": [
    "cur = db.artist.find({'tags.value': 'dance'}, sort=[('rating.count', pymongo.DESCENDING)])\n",
    "dance_ratingcount_top10 = list(itertools.islice(cur, 10))\n",
    "dance_ratingcount_top10"
   ]
  },
  {
   "cell_type": "code",
   "execution_count": 180,
   "metadata": {},
   "outputs": [
    {
     "data": {
      "text/plain": [
       "['Madonna',\n",
       " 'Björk',\n",
       " 'The Prodigy',\n",
       " 'Rihanna',\n",
       " 'Britney Spears',\n",
       " 'Maroon 5',\n",
       " 'Adam Lambert',\n",
       " 'Fatboy Slim',\n",
       " 'Basement Jaxx',\n",
       " 'Cornershop']"
      ]
     },
     "execution_count": 180,
     "metadata": {},
     "output_type": "execute_result"
    }
   ],
   "source": [
    "[x['name'] for x in dance_ratingcount_top10]"
   ]
  },
  {
   "cell_type": "markdown",
   "metadata": {},
   "source": [
    "## 69. Webアプリケーションの作成\n",
    "ユーザから入力された検索条件に合致するアーティストの情報を表示するWebアプリケーションを作成せよ．アーティスト名，アーティストの別名，タグ等で検索条件を指定し，アーティスト情報のリストをレーティングの高い順などで整列して表示せよ．"
   ]
  },
  {
   "cell_type": "markdown",
   "metadata": {},
   "source": [
    "別のレポジトリ ([nlp100_69](https://github.com/mtannaan/nlp100_69)) にて作成。"
   ]
  },
  {
   "cell_type": "code",
   "execution_count": null,
   "metadata": {},
   "outputs": [],
   "source": []
  }
 ],
 "metadata": {
  "kernelspec": {
   "display_name": "Python 3",
   "language": "python",
   "name": "python3"
  },
  "language_info": {
   "codemirror_mode": {
    "name": "ipython",
    "version": 3
   },
   "file_extension": ".py",
   "mimetype": "text/x-python",
   "name": "python",
   "nbconvert_exporter": "python",
   "pygments_lexer": "ipython3",
   "version": "3.6.8"
  }
 },
 "nbformat": 4,
 "nbformat_minor": 2
}
